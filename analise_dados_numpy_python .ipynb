{
  "nbformat": 4,
  "nbformat_minor": 0,
  "metadata": {
    "colab": {
      "provenance": [],
      "toc_visible": true
    },
    "kernelspec": {
      "name": "python3",
      "display_name": "Python 3"
    },
    "language_info": {
      "name": "python"
    }
  },
  "cells": [
    {
      "cell_type": "markdown",
      "source": [
        "# Biblioteca Numpy Python"
      ],
      "metadata": {
        "id": "4vwYaEbEZ4nY"
      }
    },
    {
      "cell_type": "markdown",
      "source": [
        "Prof. Tiago Dias\n",
        "\n",
        "[Linkedin](https://www.linkedin.com/in/diasctiago/) | [Github](https://github.com/diasctiago) | [Blog](https://www.dadosaocubo.com/)"
      ],
      "metadata": {
        "id": "VrGqrCrkaCuu"
      }
    },
    {
      "cell_type": "markdown",
      "source": [
        "### Importanto Bibliotecas"
      ],
      "metadata": {
        "id": "qOo0s8NPIfgZ"
      }
    },
    {
      "cell_type": "code",
      "source": [
        "# importando a biblioteca\n",
        "import numpy as np"
      ],
      "metadata": {
        "id": "KqmaVR4YI2bD"
      },
      "execution_count": null,
      "outputs": []
    },
    {
      "cell_type": "markdown",
      "source": [
        "### Exemplo Python"
      ],
      "metadata": {
        "id": "yE_Jqofhjak2"
      }
    },
    {
      "cell_type": "code",
      "source": [
        "# Criando um array unidimensional\n",
        "a = np.array([1, 2, 3])\n",
        "a"
      ],
      "metadata": {
        "id": "7CfVq29AjdX7",
        "colab": {
          "base_uri": "https://localhost:8080/"
        },
        "outputId": "4779512d-ac98-4366-bec3-e4603972f4dc"
      },
      "execution_count": null,
      "outputs": [
        {
          "output_type": "execute_result",
          "data": {
            "text/plain": [
              "array([1, 2, 3])"
            ]
          },
          "metadata": {},
          "execution_count": 3
        }
      ]
    },
    {
      "cell_type": "code",
      "source": [
        "# Criando um array bidimensional\n",
        "b = np.array([[1, 2], [3, 4]])\n",
        "b"
      ],
      "metadata": {
        "id": "fHp7ZifZjdpV",
        "colab": {
          "base_uri": "https://localhost:8080/"
        },
        "outputId": "6767d990-c992-4b9d-863b-45c7463cfa5c"
      },
      "execution_count": null,
      "outputs": [
        {
          "output_type": "execute_result",
          "data": {
            "text/plain": [
              "array([[1, 2],\n",
              "       [3, 4]])"
            ]
          },
          "metadata": {},
          "execution_count": 4
        }
      ]
    },
    {
      "cell_type": "code",
      "source": [
        "# Criando um array com valores aleatórios\n",
        "c = np.random.rand(3, 3)\n",
        "c"
      ],
      "metadata": {
        "id": "Yqs7y4BjjdmZ",
        "colab": {
          "base_uri": "https://localhost:8080/"
        },
        "outputId": "06c7da79-8655-46ca-a4d7-1c1a3188b1b6"
      },
      "execution_count": null,
      "outputs": [
        {
          "output_type": "execute_result",
          "data": {
            "text/plain": [
              "array([[0.92570972, 0.29568612, 0.46701211],\n",
              "       [0.45560939, 0.59324338, 0.30125269],\n",
              "       [0.69008474, 0.07689455, 0.14922916]])"
            ]
          },
          "metadata": {},
          "execution_count": 5
        }
      ]
    },
    {
      "cell_type": "code",
      "source": [
        "# Acessando elementos de um array\n",
        "print(a[0])     # 1\n",
        "print(b[1, 0])  # 3\n",
        "print(c[2, 0])  # aleatório"
      ],
      "metadata": {
        "id": "jNRKycskjdie",
        "colab": {
          "base_uri": "https://localhost:8080/"
        },
        "outputId": "e1bfe29c-9f72-4581-92da-489b9c4ee3a1"
      },
      "execution_count": null,
      "outputs": [
        {
          "output_type": "stream",
          "name": "stdout",
          "text": [
            "1\n",
            "3\n",
            "0.6900847398975982\n"
          ]
        }
      ]
    },
    {
      "cell_type": "code",
      "source": [
        "# Soma de arrays\n",
        "a = np.array([1, 2, 3])\n",
        "b = np.array([4, 5, 6])\n",
        "c = a + b\n",
        "print(a)\n",
        "print(b)\n",
        "print(c)"
      ],
      "metadata": {
        "id": "16zx6kQ7jdeQ",
        "colab": {
          "base_uri": "https://localhost:8080/"
        },
        "outputId": "15c904da-6b58-4615-b1ef-9d35c0c8ace5"
      },
      "execution_count": null,
      "outputs": [
        {
          "output_type": "stream",
          "name": "stdout",
          "text": [
            "[1 2 3]\n",
            "[4 5 6]\n",
            "[5 7 9]\n"
          ]
        }
      ]
    },
    {
      "cell_type": "code",
      "source": [
        "# Subtração de arrays\n",
        "a = np.array([1, 2, 3])\n",
        "b = np.array([4, 5, 6])\n",
        "c = a - b\n",
        "print(a)\n",
        "print(b)\n",
        "print(c)"
      ],
      "metadata": {
        "id": "9omUU82ejda8",
        "colab": {
          "base_uri": "https://localhost:8080/"
        },
        "outputId": "4d4d4455-dd10-42b4-9854-163e9eb5d4a5"
      },
      "execution_count": null,
      "outputs": [
        {
          "output_type": "stream",
          "name": "stdout",
          "text": [
            "[1 2 3]\n",
            "[4 5 6]\n",
            "[-3 -3 -3]\n"
          ]
        }
      ]
    },
    {
      "cell_type": "code",
      "source": [
        "# Multiplicação de arrays\n",
        "a = np.array([1, 2, 3])\n",
        "b = np.array([4, 5, 6])\n",
        "c = a * b\n",
        "print(a)\n",
        "print(b)\n",
        "print(c)"
      ],
      "metadata": {
        "colab": {
          "base_uri": "https://localhost:8080/"
        },
        "id": "XmDuX5xXPsh8",
        "outputId": "a7e4776e-483f-4911-f702-ad8cdc12fe55"
      },
      "execution_count": null,
      "outputs": [
        {
          "output_type": "stream",
          "name": "stdout",
          "text": [
            "[1 2 3]\n",
            "[4 5 6]\n",
            "[ 4 10 18]\n"
          ]
        }
      ]
    },
    {
      "cell_type": "code",
      "source": [
        "# Operações matriciais\n",
        "a = np.array([[1, 2], [3, 4]])\n",
        "b = np.array([[5, 6], [7, 8]])\n",
        "c = np.dot(a, b)\n",
        "print(a)\n",
        "print(b)\n",
        "print(c)"
      ],
      "metadata": {
        "colab": {
          "base_uri": "https://localhost:8080/"
        },
        "id": "IunDX8W5Pykz",
        "outputId": "44017db2-b5b0-461f-d112-f38f7ef2115e"
      },
      "execution_count": null,
      "outputs": [
        {
          "output_type": "stream",
          "name": "stdout",
          "text": [
            "[[1 2]\n",
            " [3 4]]\n",
            "[[5 6]\n",
            " [7 8]]\n",
            "[[19 22]\n",
            " [43 50]]\n"
          ]
        }
      ]
    },
    {
      "cell_type": "code",
      "source": [
        "# Média de um array\n",
        "a = np.array([1, 2, 3])\n",
        "media = np.mean(a)\n",
        "media"
      ],
      "metadata": {
        "colab": {
          "base_uri": "https://localhost:8080/"
        },
        "id": "FyKJNFYcPyh-",
        "outputId": "0c33eda5-f3eb-4976-a254-fd869e900aa3"
      },
      "execution_count": null,
      "outputs": [
        {
          "output_type": "execute_result",
          "data": {
            "text/plain": [
              "2.0"
            ]
          },
          "metadata": {},
          "execution_count": 14
        }
      ]
    },
    {
      "cell_type": "code",
      "source": [
        "# Desvio padrão de um array\n",
        "a = np.array([1, 2, 3])\n",
        "desvio_padrao = np.std(a)\n",
        "desvio_padrao"
      ],
      "metadata": {
        "colab": {
          "base_uri": "https://localhost:8080/"
        },
        "id": "YnS7gdezPyfC",
        "outputId": "d8482fcc-6c87-4677-9282-b8b4d57cdb20"
      },
      "execution_count": null,
      "outputs": [
        {
          "output_type": "execute_result",
          "data": {
            "text/plain": [
              "0.816496580927726"
            ]
          },
          "metadata": {},
          "execution_count": 15
        }
      ]
    },
    {
      "cell_type": "code",
      "source": [
        "# Exponencial de um array\n",
        "a = np.array([1, 2, 3])\n",
        "exponencial = np.exp(a)\n",
        "exponencial"
      ],
      "metadata": {
        "colab": {
          "base_uri": "https://localhost:8080/"
        },
        "id": "am1rEI84Pyb0",
        "outputId": "ca840ffe-dd39-4749-c3b3-06740a7ce500"
      },
      "execution_count": null,
      "outputs": [
        {
          "output_type": "execute_result",
          "data": {
            "text/plain": [
              "array([ 2.71828183,  7.3890561 , 20.08553692])"
            ]
          },
          "metadata": {},
          "execution_count": 16
        }
      ]
    },
    {
      "cell_type": "code",
      "source": [
        "# Logaritmo de um array\n",
        "a = np.array([1, 2, 3])\n",
        "logaritmo = np.log(a)\n",
        "logaritmo"
      ],
      "metadata": {
        "colab": {
          "base_uri": "https://localhost:8080/"
        },
        "id": "cnII5IU4PyYp",
        "outputId": "2452aa57-3308-4d99-8a06-012f598abe25"
      },
      "execution_count": null,
      "outputs": [
        {
          "output_type": "execute_result",
          "data": {
            "text/plain": [
              "array([0.        , 0.69314718, 1.09861229])"
            ]
          },
          "metadata": {},
          "execution_count": 17
        }
      ]
    },
    {
      "cell_type": "code",
      "source": [
        "# Imagem com array numpy\n",
        "from skimage import io\n",
        "\n",
        "num1 = np.array([ [0,0,255,0,0],\n",
        "                  [0,255,255,0,0],\n",
        "                  [0,0,255,0,0],\n",
        "                  [0,0,255,0,0],\n",
        "                  [0,0,255,0,0]], dtype=np.uint8)\n",
        "io.imshow(num1)\n",
        "io.show()"
      ],
      "metadata": {
        "colab": {
          "base_uri": "https://localhost:8080/",
          "height": 487
        },
        "id": "nSG_RlHlPyVY",
        "outputId": "4b8c46dd-f004-4d97-c610-dbdc164d8afa"
      },
      "execution_count": null,
      "outputs": [
        {
          "output_type": "display_data",
          "data": {
            "text/plain": [
              "<Figure size 640x480 with 1 Axes>"
            ],
            "image/png": "[encoded data removed]"
          },
          "metadata": {}
        }
      ]
    },
    {
      "cell_type": "code",
      "source": [
        "# Subtração do array\n",
        "io.imshow(num1-100)\n",
        "io.show()"
      ],
      "metadata": {
        "colab": {
          "base_uri": "https://localhost:8080/",
          "height": 521
        },
        "id": "PLymCp_GRTO0",
        "outputId": "0fd3c90d-2de9-4098-eec6-07b7c78959f6"
      },
      "execution_count": null,
      "outputs": [
        {
          "output_type": "stream",
          "name": "stderr",
          "text": [
            "/usr/local/lib/python3.10/dist-packages/skimage/io/_plugins/matplotlib_plugin.py:150: UserWarning: Low image data range; displaying image with stretched contrast.\n",
            "  lo, hi, cmap = _get_display_range(image)\n"
          ]
        },
        {
          "output_type": "display_data",
          "data": {
            "text/plain": [
              "<Figure size 640x480 with 2 Axes>"
            ],
            "image/png": "[encoded data removed]"
          },
          "metadata": {}
        }
      ]
    },
    {
      "cell_type": "code",
      "source": [
        "# Multiplicação do array\n",
        "io.imshow(num1*100)\n",
        "io.show()"
      ],
      "metadata": {
        "colab": {
          "base_uri": "https://localhost:8080/",
          "height": 487
        },
        "id": "wfOIz5MQRGK-",
        "outputId": "68892f8a-92fe-411b-e87f-c41534ad141c"
      },
      "execution_count": null,
      "outputs": [
        {
          "output_type": "display_data",
          "data": {
            "text/plain": [
              "<Figure size 640x480 with 1 Axes>"
            ],
            "image/png": "[encoded data removed]"
          },
          "metadata": {}
        }
      ]
    }
  ]
}