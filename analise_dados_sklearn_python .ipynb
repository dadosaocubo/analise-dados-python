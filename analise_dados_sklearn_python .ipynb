{
  "nbformat": 4,
  "nbformat_minor": 0,
  "metadata": {
    "colab": {
      "provenance": [],
      "toc_visible": true
    },
    "kernelspec": {
      "name": "python3",
      "display_name": "Python 3"
    },
    "language_info": {
      "name": "python"
    }
  },
  "cells": [
    {
      "cell_type": "markdown",
      "source": [
        "# Biblioteca Scikit Learn Python"
      ],
      "metadata": {
        "id": "4vwYaEbEZ4nY"
      }
    },
    {
      "cell_type": "markdown",
      "source": [
        "Prof. Tiago Dias\n",
        "\n",
        "[Linkedin](https://www.linkedin.com/in/diasctiago/) | [Github](https://github.com/diasctiago) | [Blog](https://www.dadosaocubo.com/)"
      ],
      "metadata": {
        "id": "VrGqrCrkaCuu"
      }
    },
    {
      "cell_type": "markdown",
      "source": [
        "### Exemplo Python"
      ],
      "metadata": {
        "id": "yE_Jqofhjak2"
      }
    },
    {
      "cell_type": "code",
      "source": [
        "from sklearn.datasets import load_iris\n",
        "from sklearn.tree import DecisionTreeClassifier\n",
        "from sklearn.model_selection import train_test_split\n",
        "from sklearn.metrics import accuracy_score\n",
        "\n",
        "# Carregando o conjunto de dados iris\n",
        "iris = load_iris()\n",
        "X = iris.data\n",
        "y = iris.target\n",
        "\n",
        "# Dividindo o conjunto de dados em treino e teste\n",
        "X_train, X_test, y_train, y_test = train_test_split(X, y, test_size=0.3, random_state=42)\n",
        "\n",
        "# Criando um modelo de árvore de decisão\n",
        "model = DecisionTreeClassifier(random_state=42)\n",
        "\n",
        "# Treinando o modelo\n",
        "model.fit(X_train, y_train)\n",
        "\n",
        "# Fazendo previsões com o modelo\n",
        "y_pred = model.predict(X_test)\n",
        "\n",
        "# Avaliando a acurácia do modelo\n",
        "accuracy = accuracy_score(y_test, y_pred)\n",
        "print('Acurácia:', accuracy)"
      ],
      "metadata": {
        "id": "7CfVq29AjdX7",
        "colab": {
          "base_uri": "https://localhost:8080/"
        },
        "outputId": "2e22bebe-613c-4a8b-a98f-f815499fb918"
      },
      "execution_count": null,
      "outputs": [
        {
          "output_type": "stream",
          "name": "stdout",
          "text": [
            "Acurácia: 1.0\n"
          ]
        }
      ]
    },
    {
      "cell_type": "code",
      "source": [
        "from sklearn.datasets import load_diabetes\n",
        "from sklearn.linear_model import LinearRegression\n",
        "from sklearn.model_selection import train_test_split\n",
        "from sklearn.metrics import mean_squared_error\n",
        "\n",
        "# Carregando o conjunto de dados Diabetes\n",
        "diabetes = load_diabetes()\n",
        "X = diabetes.data\n",
        "y = diabetes.target\n",
        "\n",
        "# Dividindo o conjunto de dados em treino e teste\n",
        "X_train, X_test, y_train, y_test = train_test_split(X, y, test_size=0.3, random_state=42)\n",
        "\n",
        "# Criando um modelo de regressão linear\n",
        "model = LinearRegression()\n",
        "\n",
        "# Treinando o modelo\n",
        "model.fit(X_train, y_train)\n",
        "\n",
        "# Fazendo previsões com o modelo\n",
        "y_pred = model.predict(X_test)\n",
        "\n",
        "# Avaliando o erro do modelo\n",
        "mse = mean_squared_error(y_test, y_pred)\n",
        "print('Erro quadrático médio:', mse)"
      ],
      "metadata": {
        "id": "fHp7ZifZjdpV",
        "colab": {
          "base_uri": "https://localhost:8080/"
        },
        "outputId": "2259e8c3-daf1-4c65-90b2-9f445933faf3"
      },
      "execution_count": null,
      "outputs": [
        {
          "output_type": "stream",
          "name": "stdout",
          "text": [
            "Erro quadrático médio: 2821.750981001311\n"
          ]
        }
      ]
    },
    {
      "cell_type": "code",
      "source": [
        "from sklearn.cluster import KMeans\n",
        "import numpy as np\n",
        "\n",
        "# Gera dados aleatórios\n",
        "X = np.random.rand(100, 2)\n",
        "\n",
        "# Cria um modelo KMeans com 2 clusters\n",
        "kmeans = KMeans(n_clusters=2, n_init=10)\n",
        "\n",
        "# Treina o modelo com os dados\n",
        "kmeans.fit(X)\n",
        "\n",
        "# Obtém os labels dos clusters para cada ponto\n",
        "labels = kmeans.labels_\n",
        "\n",
        "# Imprime os labels\n",
        "print(labels)"
      ],
      "metadata": {
        "id": "Yqs7y4BjjdmZ",
        "colab": {
          "base_uri": "https://localhost:8080/"
        },
        "outputId": "977db6da-6682-4608-f194-eade17877951"
      },
      "execution_count": null,
      "outputs": [
        {
          "output_type": "stream",
          "name": "stdout",
          "text": [
            "[1 0 1 1 1 1 1 0 0 1 1 1 1 1 1 0 1 1 0 0 0 0 1 1 0 1 1 0 0 1 1 1 0 1 0 1 1\n",
            " 1 1 0 1 0 1 1 0 1 0 1 1 1 0 1 0 0 1 0 0 0 1 0 0 1 1 1 1 0 1 0 0 0 1 1 1 0\n",
            " 1 1 0 0 1 0 1 0 1 0 0 1 0 1 1 0 0 0 0 0 1 1 0 1 1 0]\n"
          ]
        }
      ]
    },
    {
      "cell_type": "code",
      "source": [
        "from sklearn.decomposition import PCA\n",
        "import numpy as np\n",
        "\n",
        "# Gera dados aleatórios\n",
        "X = np.random.rand(100, 4)\n",
        "\n",
        "# Cria um modelo PCA com 2 componentes\n",
        "pca = PCA(n_components=2)\n",
        "\n",
        "# Treina o modelo com os dados\n",
        "pca.fit(X)\n",
        "\n",
        "# Projeta os pontos no espaço de 2 dimensões\n",
        "X_pca = pca.transform(X)\n",
        "\n",
        "# Imprime os pontos projetados\n",
        "print(X_pca)"
      ],
      "metadata": {
        "id": "jNRKycskjdie",
        "colab": {
          "base_uri": "https://localhost:8080/"
        },
        "outputId": "303f9fc8-76fb-4716-f98f-391c9f259601"
      },
      "execution_count": null,
      "outputs": [
        {
          "output_type": "stream",
          "name": "stdout",
          "text": [
            "[[-0.11979853 -0.51028508]\n",
            " [-0.26049993  0.00082723]\n",
            " [-0.15223476  0.13258023]\n",
            " [ 0.05160822 -0.29865979]\n",
            " [ 0.24778084 -0.16799092]\n",
            " [ 0.44706783 -0.58351439]\n",
            " [ 0.44925577 -0.1865386 ]\n",
            " [-0.38869325  0.08900743]\n",
            " [-0.0114034   0.75084894]\n",
            " [-0.01347594  0.18693068]\n",
            " [-0.23767287 -0.00870918]\n",
            " [-0.21171663  0.07085296]\n",
            " [-0.02580768 -0.65460465]\n",
            " [ 0.18096908  0.0223594 ]\n",
            " [-0.13548712 -0.28482001]\n",
            " [ 0.04061779 -0.26796387]\n",
            " [-0.4737834  -0.08012005]\n",
            " [-0.39079985  0.50316381]\n",
            " [ 0.02880008  0.30971582]\n",
            " [-0.04068886 -0.46547792]\n",
            " [-0.12040043 -0.42210937]\n",
            " [-0.05093569  0.03701388]\n",
            " [-0.31248111  0.32615411]\n",
            " [ 0.22442355 -0.01837029]\n",
            " [ 0.6685581  -0.05365048]\n",
            " [-0.04990308  0.0180217 ]\n",
            " [ 0.49901939 -0.16705548]\n",
            " [-0.00076822 -0.21930655]\n",
            " [-0.20698797 -0.29966159]\n",
            " [ 0.61126337 -0.283131  ]\n",
            " [ 0.468507    0.36816496]\n",
            " [ 0.56613757  0.06803278]\n",
            " [-0.22400934 -0.10326564]\n",
            " [-0.22496708 -0.01863172]\n",
            " [-0.64646421  0.27227745]\n",
            " [-0.53475488 -0.21057972]\n",
            " [-0.16184897 -0.22445948]\n",
            " [-0.09204367  0.18306008]\n",
            " [-0.02758872  0.41499771]\n",
            " [ 0.16468506  0.73146073]\n",
            " [ 0.01338831  0.03164607]\n",
            " [-0.39716078  0.36786267]\n",
            " [ 0.56478509  0.10831099]\n",
            " [-0.52788462 -0.40602501]\n",
            " [ 0.38644387 -0.08223511]\n",
            " [ 0.21792894 -0.35936709]\n",
            " [ 0.06449501 -0.53745336]\n",
            " [-0.28529036 -0.03475224]\n",
            " [-0.638852    0.27234945]\n",
            " [ 0.5705041   0.22668384]\n",
            " [-0.59261141  0.20382332]\n",
            " [ 0.10918775  0.62315614]\n",
            " [-0.03029613 -0.15893948]\n",
            " [ 0.41497094 -0.29616745]\n",
            " [ 0.63107721 -0.17700733]\n",
            " [-0.28788581  0.02246831]\n",
            " [ 0.52580167 -0.04308334]\n",
            " [ 0.20107911 -0.06836351]\n",
            " [-0.48871097 -0.34653623]\n",
            " [-0.24111398  0.1638874 ]\n",
            " [-0.41762209  0.4254065 ]\n",
            " [ 0.34624744 -0.00569764]\n",
            " [-0.09395142  0.04772261]\n",
            " [ 0.11721548  0.24322062]\n",
            " [-0.47931661 -0.42798927]\n",
            " [ 0.02029534 -0.35289724]\n",
            " [-0.27492576 -0.01859716]\n",
            " [-0.5550986  -0.61021847]\n",
            " [ 0.49732084  0.56863116]\n",
            " [-0.31331611 -0.18685581]\n",
            " [-0.01755454 -0.30928831]\n",
            " [-0.46470559  0.12099718]\n",
            " [-0.17172643  0.08873422]\n",
            " [ 0.34271657  0.05290255]\n",
            " [ 0.01747014 -0.03997348]\n",
            " [-0.31339294 -0.13402202]\n",
            " [-0.02836195 -0.12468581]\n",
            " [ 0.18699765  0.11032974]\n",
            " [ 0.45246748 -0.11725347]\n",
            " [-0.22947191  0.16202339]\n",
            " [ 0.40563451  0.18904306]\n",
            " [-0.03685844  0.46842539]\n",
            " [-0.1204882   0.128402  ]\n",
            " [ 0.41319718 -0.01227641]\n",
            " [ 0.04492774  0.19901607]\n",
            " [-0.18645837  0.37844348]\n",
            " [-0.17702698 -0.38087047]\n",
            " [ 0.36880466  0.06152733]\n",
            " [ 0.2303308   0.12417905]\n",
            " [-0.44836495  0.34709531]\n",
            " [ 0.30627249  0.18403505]\n",
            " [-0.29148446  0.42340906]\n",
            " [ 0.07413264  0.51487985]\n",
            " [ 0.20015765 -0.4673281 ]\n",
            " [ 0.26472832  0.2419637 ]\n",
            " [ 0.5049887   0.26221588]\n",
            " [ 0.31836672 -0.10675199]\n",
            " [ 0.05558418 -0.0387314 ]\n",
            " [-0.22784094 -0.41594423]\n",
            " [-0.06322424 -0.06004412]]\n"
          ]
        }
      ]
    },
    {
      "cell_type": "code",
      "source": [],
      "metadata": {
        "id": "16zx6kQ7jdeQ"
      },
      "execution_count": null,
      "outputs": []
    },
    {
      "cell_type": "code",
      "source": [],
      "metadata": {
        "id": "9omUU82ejda8"
      },
      "execution_count": null,
      "outputs": []
    }
  ]
}